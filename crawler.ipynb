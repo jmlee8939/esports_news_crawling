{
 "cells": [
  {
   "cell_type": "code",
   "execution_count": 2,
   "metadata": {},
   "outputs": [],
   "source": [
    "import numpy as np\n",
    "import pandas as pd\n",
    "import pickle\n",
    "from selenium import webdriver\n",
    "import time\n",
    "import os\n",
    "import argparse\n",
    "from bs4 import BeautifulSoup"
   ]
  },
  {
   "cell_type": "code",
   "execution_count": 4,
   "metadata": {},
   "outputs": [],
   "source": [
    "USA_url = 'https://www.google.com/search?q=esports&sxsrf=APq-WBvDEgz-LyeGc3WMh8b4GZ2O4AXKGA:1650337095459&source=lnms&tbm=nws&sa=X&ved=2ahUKEwjOmtbikJ_3AhVDB94KHcRpDugQ_AUoAXoECAEQAw&biw=1920&bih=937&dpr=1'"
   ]
  },
  {
   "cell_type": "code",
   "execution_count": null,
   "metadata": {},
   "outputs": [],
   "source": [
    "driver = webdriver.Chrome('C:/Users/Infosci_center/Desktop/soccer/chromedriver')\n",
    "driver.get(url)\n",
    "urls = driver.find_elements_by_class_name('WlydOe')"
   ]
  }
 ],
 "metadata": {
  "interpreter": {
   "hash": "13d6068b11ad9224531c3a20bec228e287819057b26f0b9b926e997695a10c25"
  },
  "kernelspec": {
   "display_name": "Python 3.9.5 64-bit",
   "language": "python",
   "name": "python3"
  },
  "language_info": {
   "codemirror_mode": {
    "name": "ipython",
    "version": 3
   },
   "file_extension": ".py",
   "mimetype": "text/x-python",
   "name": "python",
   "nbconvert_exporter": "python",
   "pygments_lexer": "ipython3",
   "version": "3.8.5"
  },
  "orig_nbformat": 4
 },
 "nbformat": 4,
 "nbformat_minor": 2
}
